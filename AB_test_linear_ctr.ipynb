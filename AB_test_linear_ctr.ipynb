{
 "cells": [
  {
   "cell_type": "code",
   "execution_count": 27,
   "id": "06183f7f-937b-4511-b1aa-27b277053831",
   "metadata": {},
   "outputs": [],
   "source": [
    "import numpy as np\n",
    "import pandas as pd\n",
    "import seaborn as sns\n",
    "import pandahouse as ph\n",
    "import matplotlib.pyplot as plt\n",
    "from scipy import stats\n",
    "%matplotlib inline"
   ]
  },
  {
   "cell_type": "code",
   "execution_count": 28,
   "id": "16e066b6-95a6-4c41-bd9a-544527319859",
   "metadata": {},
   "outputs": [],
   "source": [
    "connection = {'host': 'https://clickhouse.lab.karpov.courses',\n",
    "                      'database':'simulator_20230220',\n",
    "                      'user':'student', \n",
    "                      'password':'dpo_python_2020'\n",
    "                     }"
   ]
  },
  {
   "cell_type": "markdown",
   "id": "54a95c83-ca8b-4fea-86ca-d39a5a63e61a",
   "metadata": {},
   "source": [
    "# Проанализируйте тест между группами 0 и 3 по метрике линеаризованных лайков. Видно ли отличие? Стало ли 𝑝−𝑣𝑎𝑙𝑢𝑒 меньше?"
   ]
  },
  {
   "cell_type": "code",
   "execution_count": 29,
   "id": "3cd13336-a702-4ae7-80f3-34b6d0917f18",
   "metadata": {},
   "outputs": [],
   "source": [
    "query = '''\n",
    "SELECT exp_group,\n",
    "user_id,\n",
    "sum(action = 'like') as likes,\n",
    "sum(action = 'view') as views,\n",
    "likes/views as ctr\n",
    "FROM {db}.feed_actions\n",
    "WHERE toDate(time) between '2023-01-31' and '2023-02-06'\n",
    "and exp_group in (0,3)\n",
    "GROUP BY exp_group, user_id\n",
    "'''\n",
    "\n",
    "df = ph.read_clickhouse(query, connection=connection)"
   ]
  },
  {
   "cell_type": "code",
   "execution_count": 30,
   "id": "7f6ad8eb-cf79-420f-ace3-fc7af6c19444",
   "metadata": {},
   "outputs": [
    {
     "data": {
      "text/html": [
       "<div>\n",
       "<style scoped>\n",
       "    .dataframe tbody tr th:only-of-type {\n",
       "        vertical-align: middle;\n",
       "    }\n",
       "\n",
       "    .dataframe tbody tr th {\n",
       "        vertical-align: top;\n",
       "    }\n",
       "\n",
       "    .dataframe thead th {\n",
       "        text-align: right;\n",
       "    }\n",
       "</style>\n",
       "<table border=\"1\" class=\"dataframe\">\n",
       "  <thead>\n",
       "    <tr style=\"text-align: right;\">\n",
       "      <th></th>\n",
       "      <th>exp_group</th>\n",
       "      <th>user_id</th>\n",
       "      <th>likes</th>\n",
       "      <th>views</th>\n",
       "      <th>ctr</th>\n",
       "    </tr>\n",
       "  </thead>\n",
       "  <tbody>\n",
       "    <tr>\n",
       "      <th>0</th>\n",
       "      <td>3</td>\n",
       "      <td>115383</td>\n",
       "      <td>9</td>\n",
       "      <td>30</td>\n",
       "      <td>0.300000</td>\n",
       "    </tr>\n",
       "    <tr>\n",
       "      <th>1</th>\n",
       "      <td>3</td>\n",
       "      <td>123580</td>\n",
       "      <td>13</td>\n",
       "      <td>48</td>\n",
       "      <td>0.270833</td>\n",
       "    </tr>\n",
       "    <tr>\n",
       "      <th>2</th>\n",
       "      <td>0</td>\n",
       "      <td>4944</td>\n",
       "      <td>8</td>\n",
       "      <td>41</td>\n",
       "      <td>0.195122</td>\n",
       "    </tr>\n",
       "    <tr>\n",
       "      <th>3</th>\n",
       "      <td>0</td>\n",
       "      <td>4504</td>\n",
       "      <td>5</td>\n",
       "      <td>15</td>\n",
       "      <td>0.333333</td>\n",
       "    </tr>\n",
       "    <tr>\n",
       "      <th>4</th>\n",
       "      <td>0</td>\n",
       "      <td>121508</td>\n",
       "      <td>18</td>\n",
       "      <td>88</td>\n",
       "      <td>0.204545</td>\n",
       "    </tr>\n",
       "  </tbody>\n",
       "</table>\n",
       "</div>"
      ],
      "text/plain": [
       "   exp_group  user_id  likes  views       ctr\n",
       "0          3   115383      9     30  0.300000\n",
       "1          3   123580     13     48  0.270833\n",
       "2          0     4944      8     41  0.195122\n",
       "3          0     4504      5     15  0.333333\n",
       "4          0   121508     18     88  0.204545"
      ]
     },
     "execution_count": 30,
     "metadata": {},
     "output_type": "execute_result"
    }
   ],
   "source": [
    "df.head()"
   ]
  },
  {
   "cell_type": "code",
   "execution_count": 31,
   "id": "187224a2-cb89-4f97-946f-94a8741681cd",
   "metadata": {},
   "outputs": [],
   "source": [
    "control_ctr = df[df.exp_group == 0].likes.sum()/df[df.exp_group == 0].views.sum()"
   ]
  },
  {
   "cell_type": "code",
   "execution_count": 32,
   "id": "833dba32-baee-42ec-990f-f7bc7130e665",
   "metadata": {},
   "outputs": [],
   "source": [
    "df['linearized_likes'] = df['likes'] - control_ctr*df['views']"
   ]
  },
  {
   "cell_type": "code",
   "execution_count": 33,
   "id": "f8f8bb8e-117c-4868-8788-ac03d8e0cbed",
   "metadata": {},
   "outputs": [
    {
     "data": {
      "image/png": "[encoded data removed]",
      "text/plain": [
       "<Figure size 432x288 with 1 Axes>"
      ]
     },
     "metadata": {
      "needs_background": "light"
     },
     "output_type": "display_data"
    }
   ],
   "source": [
    "# Распределение линеаризированных лайков\n",
    "groups_linear = sns.histplot(data = df,\n",
    "x='linearized_likes',\n",
    "hue='exp_group',\n",
    "palette = ['r', 'b'],\n",
    "alpha=0.5,\n",
    "kde=False)"
   ]
  },
  {
   "cell_type": "markdown",
   "id": "9deb588a-3eef-4975-ae9c-4f1cb93c53ec",
   "metadata": {},
   "source": [
    "Кажется, метрика в группе 3 больше, чем в группе 0"
   ]
  },
  {
   "cell_type": "code",
   "execution_count": 34,
   "id": "693a91e0-d81c-4fa6-94de-21a7bc393401",
   "metadata": {},
   "outputs": [
    {
     "data": {
      "text/plain": [
       "Ttest_indResult(statistic=-13.896870721904069, pvalue=1.055849414662529e-43)"
      ]
     },
     "execution_count": 34,
     "metadata": {},
     "output_type": "execute_result"
    }
   ],
   "source": [
    "# Т-тест по метрике обычных CTR\n",
    "stats.ttest_ind(df[df.exp_group == 0].ctr,\n",
    "df[df.exp_group == 3].ctr,\n",
    "equal_var=False)"
   ]
  },
  {
   "cell_type": "code",
   "execution_count": 35,
   "id": "6f2199f8-325e-4d82-bb30-4922c6d9f5f4",
   "metadata": {},
   "outputs": [
    {
     "data": {
      "text/plain": [
       "Ttest_indResult(statistic=-15.21499546090383, pvalue=5.4914249479687664e-52)"
      ]
     },
     "execution_count": 35,
     "metadata": {},
     "output_type": "execute_result"
    }
   ],
   "source": [
    "# Т-тест по метрике линеаризированных лайков\n",
    "stats.ttest_ind(df[df.exp_group == 0].linearized_likes,\n",
    "df[df.exp_group == 3].linearized_likes,\n",
    "equal_var=False)"
   ]
  },
  {
   "cell_type": "markdown",
   "id": "7386c682-b344-41bd-99e9-5933b63c9189",
   "metadata": {},
   "source": [
    "Оба теста показали наличие стат.значимых различий, однако p-value при использовании Т-теста на линеаризованных лайках оказался еще меньше, чем при проведении Т-теста на обычных CTR.\n",
    "Это означает, что при тех же различиях в исходном CTR мы с большей вероятостью обнаружим изменения при использовании линеаризованной метрики.\n"
   ]
  },
  {
   "cell_type": "markdown",
   "id": "4bab6e8b-db6c-43a0-98f6-66c5bfa681a2",
   "metadata": {},
   "source": [
    "# Проанализируйте тест между группами 1 и 2 по метрике линеаризованных лайков. Видно ли отличие? Стало ли 𝑝−𝑣𝑎𝑙𝑢𝑒 меньше?"
   ]
  },
  {
   "cell_type": "code",
   "execution_count": 39,
   "id": "add442a5-838f-4d0b-8732-234fcbd58e84",
   "metadata": {},
   "outputs": [],
   "source": [
    "query = '''\n",
    "SELECT exp_group,\n",
    "user_id,\n",
    "sum(action = 'like') as likes,\n",
    "sum(action = 'view') as views,\n",
    "likes/views as ctr\n",
    "FROM {db}.feed_actions\n",
    "WHERE toDate(time) between '2023-01-31' and '2023-02-06'\n",
    "and exp_group in (1,2)\n",
    "GROUP BY exp_group, user_id\n",
    "'''\n",
    "\n",
    "df_1 = ph.read_clickhouse(query, connection=connection)"
   ]
  },
  {
   "cell_type": "code",
   "execution_count": 41,
   "id": "71eef4f1-9993-463c-b078-e7495a16b6ff",
   "metadata": {},
   "outputs": [],
   "source": [
    "control_ctr_1 = df_1[df_1.exp_group == 1].likes.sum()/df_1[df_1.exp_group == 1].views.sum()"
   ]
  },
  {
   "cell_type": "code",
   "execution_count": 43,
   "id": "b6276d40-f82b-48e5-b8a2-c2b5657b46f7",
   "metadata": {},
   "outputs": [],
   "source": [
    "df_1['linearized_likes'] = df_1['likes'] - control_ctr_1*df_1['views']"
   ]
  },
  {
   "cell_type": "code",
   "execution_count": 44,
   "id": "8883c17a-9dbf-4d9e-9043-ce068a960f6a",
   "metadata": {},
   "outputs": [
    {
     "data": {
      "image/png": "[encoded data removed]",
      "text/plain": [
       "<Figure size 432x288 with 1 Axes>"
      ]
     },
     "metadata": {
      "needs_background": "light"
     },
     "output_type": "display_data"
    }
   ],
   "source": [
    "# Распределение линеаризированных лайков\n",
    "groups_linear = sns.histplot(data = df_1,\n",
    "x='linearized_likes',\n",
    "hue='exp_group',\n",
    "palette = ['r', 'b'],\n",
    "alpha=0.5,\n",
    "kde=False)"
   ]
  },
  {
   "cell_type": "code",
   "execution_count": 45,
   "id": "e72703a0-b4e8-44ae-8e12-2459e62cd687",
   "metadata": {},
   "outputs": [
    {
     "data": {
      "text/plain": [
       "Ttest_indResult(statistic=6.122579994775973, pvalue=9.439432187037712e-10)"
      ]
     },
     "execution_count": 45,
     "metadata": {},
     "output_type": "execute_result"
    }
   ],
   "source": [
    "# Т-тест по метрике линеаризированных лайков\n",
    "stats.ttest_ind(df_1[df_1.exp_group == 1].linearized_likes,\n",
    "df_1[df_1.exp_group == 2].linearized_likes,\n",
    "equal_var=False)"
   ]
  },
  {
   "cell_type": "code",
   "execution_count": 46,
   "id": "bae4e65a-ab87-478b-8486-75ad8ed612e2",
   "metadata": {},
   "outputs": [
    {
     "data": {
      "text/plain": [
       "Ttest_indResult(statistic=0.7094392041270486, pvalue=0.4780623130874935)"
      ]
     },
     "execution_count": 46,
     "metadata": {},
     "output_type": "execute_result"
    }
   ],
   "source": [
    "# Т-тест по метрике CTR\n",
    "stats.ttest_ind(df_1[df_1.exp_group == 1].ctr,\n",
    "df_1[df_1.exp_group == 2].ctr,\n",
    "equal_var=False)"
   ]
  },
  {
   "cell_type": "markdown",
   "id": "5b8eb184-9e41-4945-903d-82c435f4bd9e",
   "metadata": {},
   "source": [
    "В отличие Т-теста на обычных CTR, тест на линеаризованной метрике показал наличие стат.значимых различий, которые можно наблюдать и на графике"
   ]
  },
  {
   "cell_type": "code",
   "execution_count": null,
   "id": "a2e6d315-fe83-4cd4-956d-de9a4e862e45",
   "metadata": {},
   "outputs": [],
   "source": []
  }
 ],
 "metadata": {
  "kernelspec": {
   "display_name": "Python 3 (ipykernel)",
   "language": "python",
   "name": "python3"
  },
  "language_info": {
   "codemirror_mode": {
    "name": "ipython",
    "version": 3
   },
   "file_extension": ".py",
   "mimetype": "text/x-python",
   "name": "python",
   "nbconvert_exporter": "python",
   "pygments_lexer": "ipython3",
   "version": "3.8.10"
  }
 },
 "nbformat": 4,
 "nbformat_minor": 5
}
